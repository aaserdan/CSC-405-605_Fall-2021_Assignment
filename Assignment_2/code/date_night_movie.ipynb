{
  "cells": [
    {
      "cell_type": "markdown",
      "source": [
        "Arturo Serdan\r\n",
        "CSC 405\r\n",
        "10/05/2021\r\n",
        "Assignment 2\r\n",
        "\r\n",
        "This assignment is meant to merge three data files, being Users, Movies, and Ratings; in order to find the which are the the highest rated movies, as well as what are the 'best' movies. \r\n",
        "The first part, which involves the merging, it is crucial since the merged data file will be used for the other two tasks; I used an outer join because we have a many to many relationship between the movies, users and ratings.\r\n",
        "In order to find the highest rated movie(s) I filter the movies by getting the average ratings and keeping the highest.\r\n",
        "For the final part I decided to use 2 additional filters, age and number of reviews, along with the first filter used in the first task in order to obtain the 'best' movies given a specific critereia. "
      ],
      "metadata": {}
    },
    {
      "cell_type": "markdown",
      "source": [
        "# Date Night Movie\n",
        "\n",
        "#### Grading:\n",
        "\n",
        "\n",
        "- Code: 90 pts\n",
        "- Markdown Documentation: 10 pts\n"
      ],
      "metadata": {}
    },
    {
      "cell_type": "markdown",
      "source": [
        "In this assignment we are going to use pandas to figure out - What's the best **date-night movie**?\r\n",
        "\r\n",
        "This assignment is going to use\r\n",
        "- Joining\r\n",
        "- Groupby\r\n",
        "- Sorting\r\n"
      ],
      "metadata": {}
    },
    {
      "cell_type": "code",
      "execution_count": 198,
      "source": [
        "import os\r\n",
        "import pandas as pd"
      ],
      "outputs": [],
      "metadata": {}
    },
    {
      "cell_type": "markdown",
      "source": [
        "##### Read in the movie data: `pd.read_table`"
      ],
      "metadata": {}
    },
    {
      "cell_type": "code",
      "execution_count": 199,
      "source": [
        "def get_movie_data():\r\n",
        "    \r\n",
        "    unames = ['user_id','gender','age','occupation','zip']\r\n",
        "    users = pd.read_table(os.path.join('../data','users.dat'), \r\n",
        "                          sep='::', header=None, names=unames, encoding = \"unicode_escape\")\r\n",
        "    \r\n",
        "    rnames = ['user_id', 'movie_id', 'rating', 'timestamp']\r\n",
        "    ratings = pd.read_table(os.path.join('../data', 'ratings.dat'), \r\n",
        "                            sep='::', header=None, names=rnames, encoding = \"unicode_escape\")\r\n",
        "    \r\n",
        "    mnames = ['movie_id', 'title','genres']\r\n",
        "    movies = pd.read_table(os.path.join('../data', 'movies.dat'), \r\n",
        "                           sep='::', header=None, names=mnames, encoding = \"unicode_escape\")\r\n",
        "\r\n",
        "    return users, ratings, movies"
      ],
      "outputs": [],
      "metadata": {}
    },
    {
      "cell_type": "code",
      "execution_count": 200,
      "source": [
        "users, ratings, movies = get_movie_data()"
      ],
      "outputs": [
        {
          "output_type": "stream",
          "name": "stderr",
          "text": [
            "C:\\Users\\artur\\AppData\\Local\\Packages\\PythonSoftwareFoundation.Python.3.9_qbz5n2kfra8p0\\LocalCache\\local-packages\\Python39\\site-packages\\pandas\\util\\_decorators.py:311: ParserWarning: Falling back to the 'python' engine because the 'c' engine does not support regex separators (separators > 1 char and different from '\\s+' are interpreted as regex); you can avoid this warning by specifying engine='python'.\n",
            "  return func(*args, **kwargs)\n"
          ]
        }
      ],
      "metadata": {}
    },
    {
      "cell_type": "code",
      "execution_count": 201,
      "source": [
        "print(users.head())"
      ],
      "outputs": [
        {
          "output_type": "stream",
          "name": "stdout",
          "text": [
            "   user_id gender  age  occupation    zip\n",
            "0        1      F    1          10  48067\n",
            "1        2      M   56          16  70072\n",
            "2        3      M   25          15  55117\n",
            "3        4      M   45           7  02460\n",
            "4        5      M   25          20  55455\n"
          ]
        }
      ],
      "metadata": {}
    },
    {
      "cell_type": "code",
      "execution_count": 202,
      "source": [
        "print(ratings.head()) "
      ],
      "outputs": [
        {
          "output_type": "stream",
          "name": "stdout",
          "text": [
            "   user_id  movie_id  rating  timestamp\n",
            "0        1      1193       5  978300760\n",
            "1        1       661       3  978302109\n",
            "2        1       914       3  978301968\n",
            "3        1      3408       4  978300275\n",
            "4        1      2355       5  978824291\n"
          ]
        }
      ],
      "metadata": {}
    },
    {
      "cell_type": "code",
      "execution_count": 203,
      "source": [
        "print(movies.head())"
      ],
      "outputs": [
        {
          "output_type": "stream",
          "name": "stdout",
          "text": [
            "   movie_id                               title                        genres\n",
            "0         1                    Toy Story (1995)   Animation|Children's|Comedy\n",
            "1         2                      Jumanji (1995)  Adventure|Children's|Fantasy\n",
            "2         3             Grumpier Old Men (1995)                Comedy|Romance\n",
            "3         4            Waiting to Exhale (1995)                  Comedy|Drama\n",
            "4         5  Father of the Bride Part II (1995)                        Comedy\n"
          ]
        }
      ],
      "metadata": {}
    },
    {
      "cell_type": "markdown",
      "source": [
        "##### Clean up the `movies`\n",
        "\n",
        "- Get the `year`\n",
        "- Shorten the `title`\n"
      ],
      "metadata": {}
    },
    {
      "cell_type": "code",
      "execution_count": 204,
      "source": [
        "tmp = movies.title.str.extract('(.*) \\(([0-9]+)\\)')\r\n",
        "tmp.apply(lambda x:x[0] if len(x) > 0 else None)\r\n",
        "tmp.apply(lambda x: x[0][:40] if len(x) > 0 else None)"
      ],
      "outputs": [
        {
          "output_type": "execute_result",
          "data": {
            "text/plain": [
              "0    Toy Story\n",
              "1         1995\n",
              "dtype: object"
            ]
          },
          "metadata": {},
          "execution_count": 204
        }
      ],
      "metadata": {}
    },
    {
      "cell_type": "code",
      "execution_count": 205,
      "source": [
        "movies['year'] = tmp[1]\r\n",
        "movies['short_title'] = tmp[0]"
      ],
      "outputs": [],
      "metadata": {}
    },
    {
      "cell_type": "code",
      "execution_count": 206,
      "source": [
        "print(movies, ratings)"
      ],
      "outputs": [
        {
          "output_type": "stream",
          "name": "stdout",
          "text": [
            "      movie_id                               title  \\\n",
            "0            1                    Toy Story (1995)   \n",
            "1            2                      Jumanji (1995)   \n",
            "2            3             Grumpier Old Men (1995)   \n",
            "3            4            Waiting to Exhale (1995)   \n",
            "4            5  Father of the Bride Part II (1995)   \n",
            "...        ...                                 ...   \n",
            "3878      3948             Meet the Parents (2000)   \n",
            "3879      3949          Requiem for a Dream (2000)   \n",
            "3880      3950                    Tigerland (2000)   \n",
            "3881      3951             Two Family House (2000)   \n",
            "3882      3952               Contender, The (2000)   \n",
            "\n",
            "                            genres  year                  short_title  \n",
            "0      Animation|Children's|Comedy  1995                    Toy Story  \n",
            "1     Adventure|Children's|Fantasy  1995                      Jumanji  \n",
            "2                   Comedy|Romance  1995             Grumpier Old Men  \n",
            "3                     Comedy|Drama  1995            Waiting to Exhale  \n",
            "4                           Comedy  1995  Father of the Bride Part II  \n",
            "...                            ...   ...                          ...  \n",
            "3878                        Comedy  2000             Meet the Parents  \n",
            "3879                         Drama  2000          Requiem for a Dream  \n",
            "3880                         Drama  2000                    Tigerland  \n",
            "3881                         Drama  2000             Two Family House  \n",
            "3882                Drama|Thriller  2000               Contender, The  \n",
            "\n",
            "[3883 rows x 5 columns]          user_id  movie_id  rating  timestamp\n",
            "0              1      1193       5  978300760\n",
            "1              1       661       3  978302109\n",
            "2              1       914       3  978301968\n",
            "3              1      3408       4  978300275\n",
            "4              1      2355       5  978824291\n",
            "...          ...       ...     ...        ...\n",
            "1000204     6040      1091       1  956716541\n",
            "1000205     6040      1094       5  956704887\n",
            "1000206     6040       562       5  956704746\n",
            "1000207     6040      1096       4  956715648\n",
            "1000208     6040      1097       4  956715569\n",
            "\n",
            "[1000209 rows x 4 columns]\n"
          ]
        }
      ],
      "metadata": {}
    },
    {
      "cell_type": "markdown",
      "source": [
        "##### Join the tables with `pd.merge` (20 pts)"
      ],
      "metadata": {}
    },
    {
      "cell_type": "code",
      "execution_count": 207,
      "source": [
        "df_m_user_rates = pd.merge(users, ratings, how='outer')\r\n",
        "df_m_user_rates2 = df_m_user_rates.set_index(['movie_id'])\r\n",
        "print(df_m_user_rates2.head())"
      ],
      "outputs": [
        {
          "output_type": "stream",
          "name": "stdout",
          "text": [
            "          user_id gender  age  occupation    zip  rating  timestamp\n",
            "movie_id                                                           \n",
            "1193            1      F    1          10  48067       5  978300760\n",
            "661             1      F    1          10  48067       3  978302109\n",
            "914             1      F    1          10  48067       3  978301968\n",
            "3408            1      F    1          10  48067       4  978300275\n",
            "2355            1      F    1          10  48067       5  978824291\n"
          ]
        }
      ],
      "metadata": {}
    },
    {
      "cell_type": "code",
      "execution_count": 208,
      "source": [
        "# Final merge of Movies, Users, and Ratings\r\n",
        "df_merged = pd.merge(movies, df_m_user_rates2, how = 'outer', on= 'movie_id')"
      ],
      "outputs": [],
      "metadata": {}
    },
    {
      "cell_type": "code",
      "execution_count": 209,
      "source": [
        "df_merged.head()"
      ],
      "outputs": [
        {
          "output_type": "execute_result",
          "data": {
            "text/html": [
              "<div>\n",
              "<style scoped>\n",
              "    .dataframe tbody tr th:only-of-type {\n",
              "        vertical-align: middle;\n",
              "    }\n",
              "\n",
              "    .dataframe tbody tr th {\n",
              "        vertical-align: top;\n",
              "    }\n",
              "\n",
              "    .dataframe thead th {\n",
              "        text-align: right;\n",
              "    }\n",
              "</style>\n",
              "<table border=\"1\" class=\"dataframe\">\n",
              "  <thead>\n",
              "    <tr style=\"text-align: right;\">\n",
              "      <th></th>\n",
              "      <th>movie_id</th>\n",
              "      <th>title</th>\n",
              "      <th>genres</th>\n",
              "      <th>year</th>\n",
              "      <th>short_title</th>\n",
              "      <th>user_id</th>\n",
              "      <th>gender</th>\n",
              "      <th>age</th>\n",
              "      <th>occupation</th>\n",
              "      <th>zip</th>\n",
              "      <th>rating</th>\n",
              "      <th>timestamp</th>\n",
              "    </tr>\n",
              "  </thead>\n",
              "  <tbody>\n",
              "    <tr>\n",
              "      <th>0</th>\n",
              "      <td>1</td>\n",
              "      <td>Toy Story (1995)</td>\n",
              "      <td>Animation|Children's|Comedy</td>\n",
              "      <td>1995</td>\n",
              "      <td>Toy Story</td>\n",
              "      <td>1.0</td>\n",
              "      <td>F</td>\n",
              "      <td>1.0</td>\n",
              "      <td>10.0</td>\n",
              "      <td>48067</td>\n",
              "      <td>5.0</td>\n",
              "      <td>978824268.0</td>\n",
              "    </tr>\n",
              "    <tr>\n",
              "      <th>1</th>\n",
              "      <td>1</td>\n",
              "      <td>Toy Story (1995)</td>\n",
              "      <td>Animation|Children's|Comedy</td>\n",
              "      <td>1995</td>\n",
              "      <td>Toy Story</td>\n",
              "      <td>6.0</td>\n",
              "      <td>F</td>\n",
              "      <td>50.0</td>\n",
              "      <td>9.0</td>\n",
              "      <td>55117</td>\n",
              "      <td>4.0</td>\n",
              "      <td>978237008.0</td>\n",
              "    </tr>\n",
              "    <tr>\n",
              "      <th>2</th>\n",
              "      <td>1</td>\n",
              "      <td>Toy Story (1995)</td>\n",
              "      <td>Animation|Children's|Comedy</td>\n",
              "      <td>1995</td>\n",
              "      <td>Toy Story</td>\n",
              "      <td>8.0</td>\n",
              "      <td>M</td>\n",
              "      <td>25.0</td>\n",
              "      <td>12.0</td>\n",
              "      <td>11413</td>\n",
              "      <td>4.0</td>\n",
              "      <td>978233496.0</td>\n",
              "    </tr>\n",
              "    <tr>\n",
              "      <th>3</th>\n",
              "      <td>1</td>\n",
              "      <td>Toy Story (1995)</td>\n",
              "      <td>Animation|Children's|Comedy</td>\n",
              "      <td>1995</td>\n",
              "      <td>Toy Story</td>\n",
              "      <td>9.0</td>\n",
              "      <td>M</td>\n",
              "      <td>25.0</td>\n",
              "      <td>17.0</td>\n",
              "      <td>61614</td>\n",
              "      <td>5.0</td>\n",
              "      <td>978225952.0</td>\n",
              "    </tr>\n",
              "    <tr>\n",
              "      <th>4</th>\n",
              "      <td>1</td>\n",
              "      <td>Toy Story (1995)</td>\n",
              "      <td>Animation|Children's|Comedy</td>\n",
              "      <td>1995</td>\n",
              "      <td>Toy Story</td>\n",
              "      <td>10.0</td>\n",
              "      <td>F</td>\n",
              "      <td>35.0</td>\n",
              "      <td>1.0</td>\n",
              "      <td>95370</td>\n",
              "      <td>5.0</td>\n",
              "      <td>978226474.0</td>\n",
              "    </tr>\n",
              "  </tbody>\n",
              "</table>\n",
              "</div>"
            ],
            "text/plain": [
              "   movie_id             title                       genres  year short_title  \\\n",
              "0         1  Toy Story (1995)  Animation|Children's|Comedy  1995   Toy Story   \n",
              "1         1  Toy Story (1995)  Animation|Children's|Comedy  1995   Toy Story   \n",
              "2         1  Toy Story (1995)  Animation|Children's|Comedy  1995   Toy Story   \n",
              "3         1  Toy Story (1995)  Animation|Children's|Comedy  1995   Toy Story   \n",
              "4         1  Toy Story (1995)  Animation|Children's|Comedy  1995   Toy Story   \n",
              "\n",
              "   user_id gender   age  occupation    zip  rating    timestamp  \n",
              "0      1.0      F   1.0        10.0  48067     5.0  978824268.0  \n",
              "1      6.0      F  50.0         9.0  55117     4.0  978237008.0  \n",
              "2      8.0      M  25.0        12.0  11413     4.0  978233496.0  \n",
              "3      9.0      M  25.0        17.0  61614     5.0  978225952.0  \n",
              "4     10.0      F  35.0         1.0  95370     5.0  978226474.0  "
            ]
          },
          "metadata": {},
          "execution_count": 209
        }
      ],
      "metadata": {}
    },
    {
      "cell_type": "markdown",
      "source": [
        "##### What's the highest rated movie? (20 pts))"
      ],
      "metadata": {}
    },
    {
      "cell_type": "code",
      "execution_count": 210,
      "source": [
        "movie_index = df_merged['short_title'].unique()\r\n",
        "rate_averages_by_movie = df_merged.groupby('short_title').mean().reset_index()\r\n",
        "print(rate_averages_by_movie.head())\r\n"
      ],
      "outputs": [
        {
          "output_type": "stream",
          "name": "stdout",
          "text": [
            "              short_title  movie_id      user_id        age  occupation  \\\n",
            "0         $1,000,000 Duck    2031.0  2865.432432  31.162162    7.378378   \n",
            "1           'Night Mother    3112.0  3231.714286  33.271429    6.242857   \n",
            "2      'Til There Was You     779.0  2729.769231  28.826923    7.903846   \n",
            "3             'burbs, The    2072.0  2954.333333  27.897690    8.148515   \n",
            "4  ...And Justice for All    3420.0  3173.246231  35.984925    8.010050   \n",
            "\n",
            "     rating     timestamp  \n",
            "0  3.027027  9.782423e+08  \n",
            "1  3.371429  9.715184e+08  \n",
            "2  2.692308  9.728025e+08  \n",
            "3  2.910891  9.718751e+08  \n",
            "4  3.713568  9.707617e+08  \n"
          ]
        }
      ],
      "metadata": {}
    },
    {
      "cell_type": "code",
      "execution_count": 211,
      "source": [
        "lowest_rated = 0\r\n",
        "highest_rated = []\r\n",
        "for i in range(0, 3840):\r\n",
        "    if lowest_rated <=  rate_averages_by_movie.loc[i].rating:\r\n",
        "        movie_rating_temp = [rate_averages_by_movie.loc[i].short_title, rate_averages_by_movie.loc[i].rating]\r\n",
        "        if lowest_rated == 5:\r\n",
        "            movie_rating_temp = [rate_averages_by_movie.loc[i].short_title, rate_averages_by_movie.loc[i].rating]\r\n",
        "            highest_rated.append(movie_rating_temp)\r\n",
        "        lowest_rated = rate_averages_by_movie.loc[i].rating\r\n",
        "\r\n",
        "# print(df_movie_rating_temp)\r\n",
        "df_highest_rated = pd.DataFrame(highest_rated, columns=['short_title', 'rating'])\r\n",
        "print('Highest rated movies')\r\n",
        "print(df_highest_rated)\r\n"
      ],
      "outputs": [
        {
          "output_type": "stream",
          "name": "stdout",
          "text": [
            "Highest rated movies\n",
            "                          short_title  rating\n",
            "0                   Bittersweet Motel     5.0\n",
            "1                    Follow the Bitch     5.0\n",
            "2         Gate of Heavenly Peace, The     5.0\n",
            "3                               Lured     5.0\n",
            "4                   One Little Indian     5.0\n",
            "5  Schlafes Bruder (Brother of Sleep)     5.0\n",
            "6                       Smashing Time     5.0\n",
            "7                     Song of Freedom     5.0\n",
            "8                    Ulysses (Ulisse)     5.0\n"
          ]
        }
      ],
      "metadata": {}
    },
    {
      "cell_type": "markdown",
      "source": [
        "###### What is a good rated movie for date night? (60 pts)\n",
        "\n",
        "- Hint - highly rated movie by \n",
        "    - both partners (might be the same gender or not),\n",
        "    - based on genre preferences,\n",
        "    - age group can also be combined"
      ],
      "metadata": {}
    },
    {
      "cell_type": "code",
      "execution_count": 212,
      "source": [
        "# This 'method' produce results based on the number of reviews being at least 75, the average age for the reviewrs has to be 18, \r\n",
        "# as well as the average rating for each movie, and generates a list of the best movies.\r\n",
        "\r\n",
        "num_rev_by_movie_temp = df_merged.short_title.value_counts()\r\n",
        "df_movie_index = pd.DataFrame(movie_index, columns=['short_title'])\r\n",
        "# print(df_movie_index.loc[986].short_title)\r\n",
        "# print(num_rev_by_movie_temp[df_movie_index.loc[986].short_title])\r\n",
        "# print(df_movie_index.loc[len(df_movie_index)-1].short_title)\r\n",
        "# print(pd.isnull(df_movie_index.loc[986].short_title))\r\n",
        "num_rev_by_movie = []\r\n",
        "for i in range(len(df_movie_index)-1):\r\n",
        "    if pd.isnull(df_movie_index.loc[i].short_title) == False:\r\n",
        "        temp = [df_movie_index.loc[i].short_title, num_rev_by_movie_temp[df_movie_index.loc[i].short_title]]\r\n",
        "        num_rev_by_movie.append(temp)\r\n",
        "        # print('movie_index: ', i, ' ', df_movie_index.loc[i].short_title, \" reviews: \", num_rev_by_movie_temp[df_movie_index.loc[i].short_title])\r\n",
        "\r\n",
        "        \r\n",
        "df_num_rev_by_movie = pd.DataFrame(num_rev_by_movie, columns=['short_title', 'number_of_reviews'])\r\n",
        "# print(df_num_rev_by_movie)\r\n",
        "\r\n",
        "# print(rate_averages_by_movie.loc[1])\r\n",
        "# print(df_num_rev_by_movie.loc[df_num_rev_by_movie['short_title'] == rate_averages_by_movie.loc[1].short_title].number_of_reviews)\r\n",
        "# if 10 < df_num_rev_by_movie.loc[df_num_rev_by_movie['short_title'] == rate_averages_by_movie.loc[1].short_title].number_of_reviews.item():\r\n",
        "#     print('success')\r\n",
        "\r\n",
        "\r\n",
        "initial_rated = 0\r\n",
        "lowest_possible_reviews = 75\r\n",
        "best_rated_and_num_reviews = []\r\n",
        "for i in range(0, 3840):\r\n",
        "     if initial_rated <=  rate_averages_by_movie.loc[i].rating and lowest_possible_reviews<= (df_num_rev_by_movie.loc[df_num_rev_by_movie['short_title'] == rate_averages_by_movie.loc[i].short_title].number_of_reviews.item()) and (rate_averages_by_movie.loc[i].age)>= 18:\r\n",
        "        movie_rating_temp2 = [rate_averages_by_movie.loc[i].short_title, rate_averages_by_movie.loc[i].rating]\r\n",
        "        best_rated_and_num_reviews.append(movie_rating_temp2)\r\n",
        "        initial_rated = rate_averages_by_movie.loc[i].rating\r\n",
        "            \r\n",
        "\r\n",
        "# print(best_rabest_rated_and_num_reviewsted)\r\n",
        "df_best_rated_and_num_reviews = pd.DataFrame(best_rated_and_num_reviews, columns=['short_title', 'rating'])\r\n",
        "print('Best movies for a date night:')\r\n",
        "print(df_best_rated_and_num_reviews)\r\n"
      ],
      "outputs": [
        {
          "output_type": "stream",
          "name": "stdout",
          "text": [
            "Best movies for a date night:\n",
            "                                         short_title    rating\n",
            "0                                        'burbs, The  2.910891\n",
            "1                             ...And Justice for All  3.713568\n",
            "2                                       12 Angry Men  4.295455\n",
            "3            400 Blows, The (Les Quatre cents coups)  4.320856\n",
            "4           Bicycle Thief, The (Ladri di biciclette)  4.357143\n",
            "5                      Bridge on the River Kwai, The  4.386994\n",
            "6                                         Casablanca  4.412822\n",
            "7                                     Close Shave, A  4.520548\n",
            "8                                     Godfather, The  4.524966\n",
            "9  Seven Samurai (The Magnificent Seven) (Shichin...  4.560510\n"
          ]
        }
      ],
      "metadata": {}
    }
  ],
  "metadata": {
    "kernelspec": {
      "name": "python3",
      "display_name": "Python 3.9.7 64-bit (windows store)"
    },
    "language_info": {
      "name": "python",
      "version": "3.9.7",
      "mimetype": "text/x-python",
      "codemirror_mode": {
        "name": "ipython",
        "version": 3
      },
      "pygments_lexer": "ipython3",
      "nbconvert_exporter": "python",
      "file_extension": ".py"
    },
    "nteract": {
      "version": "0.25.0"
    },
    "interpreter": {
      "hash": "acac2e827434c3209bc72ec96494a0c2258ec6761ce44c6c97518d789235ac1b"
    }
  },
  "nbformat": 4,
  "nbformat_minor": 1
}