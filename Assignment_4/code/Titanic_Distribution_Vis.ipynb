{
 "cells": [
  {
   "cell_type": "markdown",
   "metadata": {},
   "source": [
    "### Arturo Serdan\n",
    "CSC 405 | 11/11/2021 | Assignment 4\n",
    "\n",
    "For this assignment, I will be using matplotlib in order to: create a bar chart for number of passengers survived by class, a vertical bar chart for passengers survived by class and gender,\n",
    "a stacked chart survived vs dead for different classes and gender, plot histogram of fares paid for passengers, e a KDE vs bar plot of the fare, a box plot of the fares by passenger class\n",
    "and a box plot of the age by passenger class.\n",
    "I will be doing these by using information obtained from the previous assingment as well as new information from the dataframe as needed."
   ]
  },
  {
   "cell_type": "markdown",
   "metadata": {},
   "source": [
    "## Plotting Titanic Dataset"
   ]
  },
  {
   "cell_type": "code",
   "execution_count": 15,
   "metadata": {
    "collapsed": true
   },
   "outputs": [],
   "source": [
    "%matplotlib inline\n",
    "import pandas as pd\n",
    "import numpy as np\n",
    "import matplotlib as mpl\n",
    "import matplotlib.pyplot as plt\n",
    "\n",
    "\n",
    "import pandas as pd"
   ]
  },
  {
   "cell_type": "code",
   "execution_count": 16,
   "metadata": {},
   "outputs": [
    {
     "data": {
      "text/html": [
       "<div>\n",
       "<style scoped>\n",
       "    .dataframe tbody tr th:only-of-type {\n",
       "        vertical-align: middle;\n",
       "    }\n",
       "\n",
       "    .dataframe tbody tr th {\n",
       "        vertical-align: top;\n",
       "    }\n",
       "\n",
       "    .dataframe thead th {\n",
       "        text-align: right;\n",
       "    }\n",
       "</style>\n",
       "<table border=\"1\" class=\"dataframe\">\n",
       "  <thead>\n",
       "    <tr style=\"text-align: right;\">\n",
       "      <th></th>\n",
       "      <th>pclass</th>\n",
       "      <th>survived</th>\n",
       "      <th>name</th>\n",
       "      <th>sex</th>\n",
       "      <th>age</th>\n",
       "      <th>sibsp</th>\n",
       "      <th>parch</th>\n",
       "      <th>ticket</th>\n",
       "      <th>fare</th>\n",
       "      <th>cabin</th>\n",
       "      <th>embarked</th>\n",
       "      <th>boat</th>\n",
       "      <th>body</th>\n",
       "      <th>home.dest</th>\n",
       "    </tr>\n",
       "  </thead>\n",
       "  <tbody>\n",
       "    <tr>\n",
       "      <th>0</th>\n",
       "      <td>1</td>\n",
       "      <td>1</td>\n",
       "      <td>Allen, Miss. Elisabeth Walton</td>\n",
       "      <td>female</td>\n",
       "      <td>29.0000</td>\n",
       "      <td>0</td>\n",
       "      <td>0</td>\n",
       "      <td>24160</td>\n",
       "      <td>211.3375</td>\n",
       "      <td>B5</td>\n",
       "      <td>S</td>\n",
       "      <td>2</td>\n",
       "      <td>NaN</td>\n",
       "      <td>St Louis, MO</td>\n",
       "    </tr>\n",
       "    <tr>\n",
       "      <th>1</th>\n",
       "      <td>1</td>\n",
       "      <td>1</td>\n",
       "      <td>Allison, Master. Hudson Trevor</td>\n",
       "      <td>male</td>\n",
       "      <td>0.9167</td>\n",
       "      <td>1</td>\n",
       "      <td>2</td>\n",
       "      <td>113781</td>\n",
       "      <td>151.5500</td>\n",
       "      <td>C22 C26</td>\n",
       "      <td>S</td>\n",
       "      <td>11</td>\n",
       "      <td>NaN</td>\n",
       "      <td>Montreal, PQ / Chesterville, ON</td>\n",
       "    </tr>\n",
       "    <tr>\n",
       "      <th>2</th>\n",
       "      <td>1</td>\n",
       "      <td>0</td>\n",
       "      <td>Allison, Miss. Helen Loraine</td>\n",
       "      <td>female</td>\n",
       "      <td>2.0000</td>\n",
       "      <td>1</td>\n",
       "      <td>2</td>\n",
       "      <td>113781</td>\n",
       "      <td>151.5500</td>\n",
       "      <td>C22 C26</td>\n",
       "      <td>S</td>\n",
       "      <td>NaN</td>\n",
       "      <td>NaN</td>\n",
       "      <td>Montreal, PQ / Chesterville, ON</td>\n",
       "    </tr>\n",
       "    <tr>\n",
       "      <th>3</th>\n",
       "      <td>1</td>\n",
       "      <td>0</td>\n",
       "      <td>Allison, Mr. Hudson Joshua Creighton</td>\n",
       "      <td>male</td>\n",
       "      <td>30.0000</td>\n",
       "      <td>1</td>\n",
       "      <td>2</td>\n",
       "      <td>113781</td>\n",
       "      <td>151.5500</td>\n",
       "      <td>C22 C26</td>\n",
       "      <td>S</td>\n",
       "      <td>NaN</td>\n",
       "      <td>135.0</td>\n",
       "      <td>Montreal, PQ / Chesterville, ON</td>\n",
       "    </tr>\n",
       "    <tr>\n",
       "      <th>4</th>\n",
       "      <td>1</td>\n",
       "      <td>0</td>\n",
       "      <td>Allison, Mrs. Hudson J C (Bessie Waldo Daniels)</td>\n",
       "      <td>female</td>\n",
       "      <td>25.0000</td>\n",
       "      <td>1</td>\n",
       "      <td>2</td>\n",
       "      <td>113781</td>\n",
       "      <td>151.5500</td>\n",
       "      <td>C22 C26</td>\n",
       "      <td>S</td>\n",
       "      <td>NaN</td>\n",
       "      <td>NaN</td>\n",
       "      <td>Montreal, PQ / Chesterville, ON</td>\n",
       "    </tr>\n",
       "  </tbody>\n",
       "</table>\n",
       "</div>"
      ],
      "text/plain": [
       "   pclass  survived                                             name     sex  \\\n",
       "0       1         1                    Allen, Miss. Elisabeth Walton  female   \n",
       "1       1         1                   Allison, Master. Hudson Trevor    male   \n",
       "2       1         0                     Allison, Miss. Helen Loraine  female   \n",
       "3       1         0             Allison, Mr. Hudson Joshua Creighton    male   \n",
       "4       1         0  Allison, Mrs. Hudson J C (Bessie Waldo Daniels)  female   \n",
       "\n",
       "       age  sibsp  parch  ticket      fare    cabin embarked boat   body  \\\n",
       "0  29.0000      0      0   24160  211.3375       B5        S    2    NaN   \n",
       "1   0.9167      1      2  113781  151.5500  C22 C26        S   11    NaN   \n",
       "2   2.0000      1      2  113781  151.5500  C22 C26        S  NaN    NaN   \n",
       "3  30.0000      1      2  113781  151.5500  C22 C26        S  NaN  135.0   \n",
       "4  25.0000      1      2  113781  151.5500  C22 C26        S  NaN    NaN   \n",
       "\n",
       "                         home.dest  \n",
       "0                     St Louis, MO  \n",
       "1  Montreal, PQ / Chesterville, ON  \n",
       "2  Montreal, PQ / Chesterville, ON  \n",
       "3  Montreal, PQ / Chesterville, ON  \n",
       "4  Montreal, PQ / Chesterville, ON  "
      ]
     },
     "execution_count": 16,
     "metadata": {},
     "output_type": "execute_result"
    }
   ],
   "source": [
    "titanic = pd.read_excel(\"../data/titanic.xls\", \"titanic\")\n",
    "titanic.head()"
   ]
  },
  {
   "cell_type": "markdown",
   "metadata": {},
   "source": [
    "#### 1. Create a bar chart for number of passengers survived by class"
   ]
  },
  {
   "cell_type": "code",
   "execution_count": 17,
   "metadata": {
    "collapsed": true
   },
   "outputs": [],
   "source": [
    "# Grouping by people who survived (1) and those who did not (0); assuming 1 is survived and 0 is not\n",
    "survived_passengers = titanic.groupby(by = ['survived'])\n",
    "survived_passengers.head()\n",
    "\n",
    "# Gets the survivors per class\n",
    "t_class1 = titanic.loc[titanic['pclass'] == 1]\n",
    "t_class2 = titanic.loc[titanic['pclass'] == 2]\n",
    "t_class3 = titanic.loc[titanic['pclass'] == 3]\n",
    "\n",
    "survivors_class1 = t_class1[t_class1['survived'] == 1].survived.count()\n",
    "survivors_class2 = t_class2[t_class2['survived'] == 1].survived.count()\n",
    "survivors_class3 = t_class3[t_class3['survived'] == 1].survived.count()"
   ]
  },
  {
   "cell_type": "code",
   "execution_count": 18,
   "metadata": {},
   "outputs": [
    {
     "data": {
      "text/plain": [
       "Text(0.5, 1.0, 'Survivors per class')"
      ]
     },
     "execution_count": 18,
     "metadata": {},
     "output_type": "execute_result"
    },
    {
     "data": {
      "image/png": "[encoded data removed]",
      "text/plain": [
       "<Figure size 432x288 with 1 Axes>"
      ]
     },
     "metadata": {
      "needs_background": "light"
     },
     "output_type": "display_data"
    }
   ],
   "source": [
    "# Graphing for the 3 classes\n",
    "y_classes = ['Class 1', 'Class 2', 'Class 3']\n",
    "x_values = [survivors_class1, survivors_class2, survivors_class3]\n",
    "\n",
    "plt.bar(y_classes, x_values, align='center', alpha=0.5)\n",
    "plt.ylabel('Survivors')\n",
    "plt.title('Survivors per class')"
   ]
  },
  {
   "cell_type": "markdown",
   "metadata": {},
   "source": [
    "#### 2. Create a vertical bar chart for passengers survived by class and gender"
   ]
  },
  {
   "cell_type": "code",
   "execution_count": 19,
   "metadata": {},
   "outputs": [],
   "source": [
    "# Filtering through data only for those who survived\n",
    "class_and_sex_survivors = titanic.loc[titanic['survived'] == 1]\n",
    "class_and_sex_survivors.groupby(['pclass', 'sex']).count()\n",
    "\n",
    "# Gets the survivors by class and sex\n",
    "class1_female_survivors = (class_and_sex_survivors.groupby(['pclass', 'sex']).get_group((1,'female')).count())['pclass']\n",
    "class1_male_survivors = (class_and_sex_survivors.groupby(['pclass', 'sex']).get_group((1,'male')).count())['pclass']\n",
    "\n",
    "class2_female_survivors = (class_and_sex_survivors.groupby(['pclass', 'sex']).get_group((2,'female')).count())['pclass']\n",
    "class2_male_survivors = (class_and_sex_survivors.groupby(['pclass', 'sex']).get_group((2,'male')).count())['pclass']\n",
    "\n",
    "class3_female_survivors = (class_and_sex_survivors.groupby(['pclass', 'sex']).get_group((3,'female')).count())['pclass']\n",
    "class3_male_survivors = (class_and_sex_survivors.groupby(['pclass', 'sex']).get_group((3,'male')).count())['pclass']"
   ]
  },
  {
   "cell_type": "code",
   "execution_count": 20,
   "metadata": {},
   "outputs": [
    {
     "data": {
      "image/png": "[encoded data removed]",
      "text/plain": [
       "<Figure size 432x288 with 1 Axes>"
      ]
     },
     "metadata": {
      "needs_background": "light"
     },
     "output_type": "display_data"
    }
   ],
   "source": [
    "# Graphing \n",
    "# data to plot\n",
    "n_groups = 3\n",
    "survivor_men_classes = (class1_male_survivors, class2_male_survivors, class3_male_survivors)\n",
    "survivor_women_classes = (class1_female_survivors, class2_female_survivors, class3_female_survivors)\n",
    "\n",
    "# create plot\n",
    "fig, ax = plt.subplots()\n",
    "index = np.arange(n_groups)\n",
    "bar_width = 0.35\n",
    "opacity = 0.8\n",
    "\n",
    "rects1 = plt.bar(index, survivor_men_classes, bar_width,\n",
    "alpha=opacity,\n",
    "color='lightBlue',\n",
    "label='Men')\n",
    "\n",
    "rects2 = plt.bar(index + bar_width, survivor_women_classes, bar_width,\n",
    "alpha=opacity,\n",
    "color='lightPink',\n",
    "label='Women')\n",
    "\n",
    "# plt.xlabel('Person')\n",
    "plt.ylabel('Surviviors')\n",
    "plt.title('Survivors by Gender')\n",
    "plt.xticks(index + bar_width, ('Class 1', 'Class 2', 'Class 3'))\n",
    "plt.legend()\n",
    "\n",
    "plt.tight_layout()\n",
    "plt.show()"
   ]
  },
  {
   "cell_type": "markdown",
   "metadata": {},
   "source": [
    "#### 3. Create a stacked chart survived vs dead for different classes and gender"
   ]
  },
  {
   "cell_type": "code",
   "execution_count": 21,
   "metadata": {},
   "outputs": [],
   "source": [
    "# Gets the deaths\n",
    "deaths_by_class_and_sex = titanic.loc[titanic['survived'] == 0]\n",
    "deaths_by_class_and_sex.groupby(['pclass', 'sex']).count()\n",
    "\n",
    "# Gets the deaths by class and sex\n",
    "class1_female_deaths = (deaths_by_class_and_sex.groupby(['pclass', 'sex']).get_group((1,'female')).count())['pclass']\n",
    "class1_male_deaths = (deaths_by_class_and_sex.groupby(['pclass', 'sex']).get_group((1,'male')).count())['pclass']\n",
    "\n",
    "class2_female_deaths = (deaths_by_class_and_sex.groupby(['pclass', 'sex']).get_group((2,'female')).count())['pclass']\n",
    "class2_male_deaths = (deaths_by_class_and_sex.groupby(['pclass', 'sex']).get_group((2,'male')).count())['pclass']\n",
    "\n",
    "class3_female_deaths = (deaths_by_class_and_sex.groupby(['pclass', 'sex']).get_group((3,'female')).count())['pclass']\n",
    "class3_male_deaths = (deaths_by_class_and_sex.groupby(['pclass', 'sex']).get_group((3,'male')).count())['pclass']\n",
    "\n",
    "# death_men_classes = (class1_male_deaths, class2_male_deaths, class3_male_deaths)\n",
    "# death_women_classes = (class1_female_deaths, class2_female_deaths, class3_female_deaths)\n",
    "\n",
    "# survivor_men_classes = (class1_male_survivors, class2_male_survivors, class3_male_survivors)\n",
    "# survivor_women_classes = (class1_female_survivors, class2_female_survivors, class3_female_survivors)"
   ]
  },
  {
   "cell_type": "code",
   "execution_count": 22,
   "metadata": {},
   "outputs": [
    {
     "data": {
      "image/png": "[encoded data removed]",
      "text/plain": [
       "<Figure size 1440x720 with 1 Axes>"
      ]
     },
     "metadata": {
      "needs_background": "light"
     },
     "output_type": "display_data"
    }
   ],
   "source": [
    "# Graphing the stacked chart survived vs dead for different classes and gender\n",
    "\n",
    "labels = ['Class 1 - Female', 'Class 1 - Male', 'Class 2 - Female', 'Class 2 - Male', 'Class 3 - Female', 'Class 3 - Male']\n",
    "\n",
    "all_daths = (class1_female_deaths, class1_male_deaths, class2_female_deaths, class2_male_deaths, class3_female_deaths, class3_male_deaths)\n",
    "all_survivors = (class1_female_survivors, class1_male_survivors, class2_female_survivors, class2_male_survivors, class3_female_survivors, class3_male_survivors)\n",
    "\n",
    "fig, ax = plt.subplots()\n",
    "\n",
    "ax.bar(labels, all_daths, label='deaths', color='grey')\n",
    "ax.bar(labels, all_survivors, bottom=all_daths,label='Survivors', color='lightGreen')\n",
    "\n",
    "ax.set_ylabel('Number of Passengers')\n",
    "ax.set_title('Survived vs dead for different classes and gender')\n",
    "ax.legend()\n",
    "fig.set_size_inches(20, 10)\n",
    "plt.show()"
   ]
  },
  {
   "cell_type": "markdown",
   "metadata": {},
   "source": [
    "#### 4. Plot histogram of fares paid for passengers bins = 30"
   ]
  },
  {
   "cell_type": "code",
   "execution_count": 23,
   "metadata": {},
   "outputs": [
    {
     "data": {
      "image/png": "[encoded data removed]",
      "text/plain": [
       "<Figure size 1080x720 with 1 Axes>"
      ]
     },
     "metadata": {
      "needs_background": "light"
     },
     "output_type": "display_data"
    }
   ],
   "source": [
    "# Graphing the histogram\n",
    "# Gets the fare paid for all the passengers\n",
    "x = titanic['fare']\n",
    "\n",
    "fig, ax = plt.subplots(figsize =(15, 10))\n",
    "ax.hist(x, bins = 30) \n",
    "plt.show()"
   ]
  },
  {
   "cell_type": "markdown",
   "metadata": {},
   "source": [
    "#### 5.Create a KDE vs bar plot of the fare"
   ]
  },
  {
   "cell_type": "code",
   "execution_count": 24,
   "metadata": {},
   "outputs": [
    {
     "name": "stderr",
     "output_type": "stream",
     "text": [
      "C:\\Users\\artur\\AppData\\Local\\Packages\\PythonSoftwareFoundation.Python.3.9_qbz5n2kfra8p0\\LocalCache\\local-packages\\Python39\\site-packages\\seaborn\\distributions.py:2619: FutureWarning: `distplot` is a deprecated function and will be removed in a future version. Please adapt your code to use either `displot` (a figure-level function with similar flexibility) or `histplot` (an axes-level function for histograms).\n",
      "  warnings.warn(msg, FutureWarning)\n"
     ]
    },
    {
     "data": {
      "text/plain": [
       "<AxesSubplot:xlabel='fare', ylabel='Density'>"
      ]
     },
     "execution_count": 24,
     "metadata": {},
     "output_type": "execute_result"
    },
    {
     "data": {
      "image/png": "[encoded data removed]",
      "text/plain": [
       "<Figure size 1080x720 with 1 Axes>"
      ]
     },
     "metadata": {},
     "output_type": "display_data"
    }
   ],
   "source": [
    "import seaborn as sns\n",
    "\n",
    "sns.set(rc = {'figure.figsize':(15,10)})\n",
    "sns.set_style()\n",
    "sns.distplot(x)\n"
   ]
  },
  {
   "cell_type": "markdown",
   "metadata": {},
   "source": [
    "#### 6. Create a box plot of the fares by passenger class"
   ]
  },
  {
   "cell_type": "code",
   "execution_count": 25,
   "metadata": {},
   "outputs": [],
   "source": [
    "# Gets the fares paid per class\n",
    "\n",
    "all_fares_paid = pd.DataFrame()\n",
    "t_fare_paid_class1 = pd.DataFrame()\n",
    "t_fare_paid_class2 = pd.DataFrame()\n",
    "t_fare_paid_class3 = pd.DataFrame()\n",
    "\n",
    "t_fare_paid_class1['class1'] = (titanic.loc[titanic['pclass'] == 1])['fare']\n",
    "t_fare_paid_class2['class2'] = (titanic.loc[titanic['pclass'] == 2])['fare']\n",
    "t_fare_paid_class3['class3'] = (titanic.loc[titanic['pclass'] == 3])['fare']\n",
    "\n",
    "t_fare_paid_class1 = t_fare_paid_class1.reset_index()\n",
    "t_fare_paid_class2 = t_fare_paid_class2.reset_index()\n",
    "t_fare_paid_class3 = t_fare_paid_class3.reset_index()\n",
    "\n",
    "t_fare_paid_class1 = (t_fare_paid_class1.T.drop(['index'])).T\n",
    "t_fare_paid_class2 = (t_fare_paid_class2.T.drop(['index'])).T\n",
    "t_fare_paid_class3 = (t_fare_paid_class3.T.drop(['index'])).T\n",
    "\n",
    "all_fares_paid['class_3'] = t_fare_paid_class3\n",
    "all_fares_paid['class_2'] = t_fare_paid_class2\n",
    "all_fares_paid['class_1'] = t_fare_paid_class1"
   ]
  },
  {
   "cell_type": "code",
   "execution_count": 26,
   "metadata": {},
   "outputs": [
    {
     "data": {
      "image/png": "[encoded data removed]",
      "text/plain": [
       "<Figure size 1080x720 with 1 Axes>"
      ]
     },
     "metadata": {},
     "output_type": "display_data"
    }
   ],
   "source": [
    "# Graphing a box plot of the fares by passenger class\n",
    "\n",
    "fares_boxplot = pd.DataFrame()\n",
    "fares_boxplot = all_fares_paid.boxplot(column=['class_1', 'class_2', 'class_3'], return_type= 'axes', vert = False)\n",
    "plt.show(fares_boxplot)"
   ]
  },
  {
   "cell_type": "markdown",
   "metadata": {},
   "source": [
    "#### 7. Create a box plot of the age by passenger class"
   ]
  },
  {
   "cell_type": "code",
   "execution_count": 27,
   "metadata": {},
   "outputs": [],
   "source": [
    "# Gets the fares paid per class\n",
    "\n",
    "all_ages_per_classes = pd.DataFrame()\n",
    "t_ages_in_class1 = pd.DataFrame()\n",
    "t_ages_in_class2 = pd.DataFrame()\n",
    "t_ages_in_class3 = pd.DataFrame()\n",
    "\n",
    "t_ages_in_class1['class1'] = (titanic.loc[titanic['pclass'] == 1])['age']\n",
    "t_ages_in_class2['class2'] = (titanic.loc[titanic['pclass'] == 2])['age']\n",
    "t_ages_in_class3['class3'] = (titanic.loc[titanic['pclass'] == 3])['age']\n",
    "\n",
    "t_ages_in_class1 = t_ages_in_class1.reset_index()\n",
    "t_ages_in_class2 = t_ages_in_class2.reset_index()\n",
    "t_ages_in_class3 = t_ages_in_class3.reset_index()\n",
    "\n",
    "t_ages_in_class1 = (t_ages_in_class1.T.drop(['index'])).T\n",
    "t_ages_in_class2 = (t_ages_in_class2.T.drop(['index'])).T\n",
    "t_ages_in_class3 = (t_ages_in_class3.T.drop(['index'])).T\n",
    "\n",
    "all_ages_per_classes['class_3'] = t_ages_in_class3\n",
    "all_ages_per_classes['class_2'] = t_ages_in_class2\n",
    "all_ages_per_classes['class_1'] = t_ages_in_class1"
   ]
  },
  {
   "cell_type": "code",
   "execution_count": 28,
   "metadata": {},
   "outputs": [
    {
     "data": {
      "image/png": "[encoded data removed]",
      "text/plain": [
       "<Figure size 1080x720 with 1 Axes>"
      ]
     },
     "metadata": {},
     "output_type": "display_data"
    }
   ],
   "source": [
    "# Graphing a box plot of the fares by passenger class\n",
    "\n",
    "ages_boxplot = pd.DataFrame()\n",
    "ages_boxplot = all_ages_per_classes.boxplot(column=['class_1', 'class_2', 'class_3'], return_type= 'axes', vert = False)\n",
    "plt.show(ages_boxplot)"
   ]
  },
  {
   "cell_type": "markdown",
   "metadata": {},
   "source": [
    "#### Try Plotly to do all of the above"
   ]
  },
  {
   "cell_type": "markdown",
   "metadata": {},
   "source": [
    "## All the above tasks were done using Plotly, with the exception of task 5 where I used seaborn instead. "
   ]
  }
 ],
 "metadata": {
  "interpreter": {
   "hash": "acac2e827434c3209bc72ec96494a0c2258ec6761ce44c6c97518d789235ac1b"
  },
  "kernelspec": {
   "display_name": "Python 3.9.7 64-bit (windows store)",
   "name": "python3"
  },
  "language_info": {
   "codemirror_mode": {
    "name": "ipython",
    "version": 3
   },
   "file_extension": ".py",
   "mimetype": "text/x-python",
   "name": "python",
   "nbconvert_exporter": "python",
   "pygments_lexer": "ipython3",
   "version": "3.9.8"
  }
 },
 "nbformat": 4,
 "nbformat_minor": 1
}
