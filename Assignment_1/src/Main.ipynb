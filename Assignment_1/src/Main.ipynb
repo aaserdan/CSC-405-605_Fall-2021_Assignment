{
 "cells": [
  {
   "cell_type": "code",
   "execution_count": 1,
   "id": "0688bdb1",
   "metadata": {},
   "outputs": [
    {
     "name": "stdout",
     "output_type": "stream",
     "text": [
      "Group: 1\n",
      "random value:  18 ['Wheeler, Sytiva', '-2110293426468742815']\n",
      "random value:  27 ['Sapra, Pujita', '8225622007048178270']\n",
      "random value:  6 ['Fink, Jack', '-4639225912538006845']\n",
      "random value:  22 ['Kandula, Pavitra', '9058734215712205409']\n",
      "random value:  16 ['Traylor, Alana', '-29680934471851224']\n",
      "Group: 2\n",
      "random value:  2 ['Burleson, Howard', '-5876059200547365790']\n",
      "random value:  10 ['Ruizvalencia, Carlos', '-4216448415765763167']\n",
      "random value:  23 ['Somoye, Tessy', '3304351536338388599']\n",
      "random value:  5 ['Hayes, Priscilla', '-3307050396666584766']\n",
      "random value:  16 ['Jayanna, Deepa', '4502929135190096095']\n",
      "Group: 3\n",
      "random value:  14 ['Folarin, Oluwafunke', '-2704179675044602151']\n",
      "random value:  12 ['Tan, Heng', '3564399023861771691']\n",
      "random value:  4 ['Devenouges, Cassidy', '-2290910029969786308']\n",
      "random value:  3 ['Davis, Nathanael', '-1155012396224177706']\n",
      "random value:  10 ['Chunduru, Chandan Kumar', '3670333503087225838']\n",
      "Group: 4\n",
      "random value:  6 ['Rhodes, Suqoya', '1635691536871674328']\n",
      "random value:  10 ['Kalidindi, Poojitha', '8226776967895380712']\n",
      "random value:  7 ['Staton, Mckenzie', '9117085443251601003']\n",
      "random value:  5 ['Qureshi, Sarah', '5512444535046378584']\n",
      "random value:  5 ['Serdan, Arturo', '-4698901151058499785']\n",
      "Group: 5\n",
      "random value:  8 ['Malgari, Chandra Shekhar Reddy', '-83403264136791342']\n",
      "random value:  6 ['Him, Vathana', '2400924999904550868']\n",
      "random value:  8 ['Shanu, Shipra', '9119341040909592440']\n",
      "random value:  6 ['Khan, Sarah', '-3067489292745361752']\n",
      "random value:  1 ['Brannon, Joseph', '379392418257512139']\n",
      "Group: 6\n",
      "random value:  6 ['Voigt, Jack', '6969483852326121342']\n",
      "random value:  4 ['Supple, Kyle', '6846964574701918709']\n",
      "random value:  4 ['Nandy, Oishiq', '-7294606698304987387']\n",
      "random value:  2 ['Honnenahalli, Srushti', '8996458273604827358']\n",
      "random value:  2 ['Ksor, Patrick', '-1916605416272849763']\n",
      "random value:  0 ['Albadri, Hager', '1440304164971153371']\n",
      "random value:  0 [\"Carver, Aka'sh\", '178417370705844770']\n"
     ]
    }
   ],
   "source": [
    "import csv\n",
    "from random import randint\n",
    "\n",
    "# opens the file and place it into a list\n",
    "with open(\"../data/fall-21-students.tsv\") as file:\n",
    "    reader = csv.reader(file, delimiter=\"\\t\")\n",
    "    students = list(reader)\n",
    "    students.remove(students[0])\n",
    "\n",
    "# Generates random groups given a list and a group size\n",
    "def group_by(_group_size, _list):\n",
    "    count = 1\n",
    "    groupCount = 1\n",
    "\n",
    "    for x in range(0, len(_list)):\n",
    "        # checks if the group size has passed the desired size\n",
    "        if count > _group_size:\n",
    "            count = 1\n",
    "            groupCount += 1\n",
    "\n",
    "        # prints the group number at the beginning\n",
    "        if count == 1:\n",
    "            print('Group: %d' % (groupCount))\n",
    "\n",
    "        # generates a random number for the student to be added\n",
    "        randomizer = randint(0, len(students)-1)\n",
    "        print(\"random value: \", randomizer, _list[randomizer])\n",
    "        _list.remove(_list[randomizer])\n",
    "\n",
    "        # adds the last student to the last group if you can't form a new group\n",
    "        if len(_list) >= _group_size-1:\n",
    "            count += 1\n",
    "\n",
    "# Calls the method to generate random groups\n",
    "group_by(5, students)"
   ]
  },
  {
   "cell_type": "code",
   "execution_count": null,
   "id": "183bd8d3",
   "metadata": {},
   "outputs": [],
   "source": []
  }
 ],
 "metadata": {
  "kernelspec": {
   "display_name": "Python 3",
   "language": "python",
   "name": "python3"
  },
  "language_info": {
   "codemirror_mode": {
    "name": "ipython",
    "version": 3
   },
   "file_extension": ".py",
   "mimetype": "text/x-python",
   "name": "python",
   "nbconvert_exporter": "python",
   "pygments_lexer": "ipython3",
   "version": "3.8.8"
  }
 },
 "nbformat": 4,
 "nbformat_minor": 5
}
